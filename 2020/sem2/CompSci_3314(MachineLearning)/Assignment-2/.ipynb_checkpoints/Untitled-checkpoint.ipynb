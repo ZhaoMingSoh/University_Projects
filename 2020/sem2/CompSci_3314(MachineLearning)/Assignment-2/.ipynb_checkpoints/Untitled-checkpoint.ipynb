{
 "cells": [
  {
   "cell_type": "code",
   "execution_count": 326,
   "metadata": {},
   "outputs": [],
   "source": [
    "import pandas as pd\n",
    "import numpy as np\n",
    "from sklearn.tree import DecisionTreeClassifier\n",
    "from sklearn.model_selection import cross_validate"
   ]
  },
  {
   "cell_type": "code",
   "execution_count": 327,
   "metadata": {},
   "outputs": [],
   "source": [
    "\"\"\" \n",
    "Import The Dataset \n",
    "\"\"\"\n",
    "\n",
    "#Import the Dataset\n",
    "dataset = pd.read_csv(\"wdbc_data.csv\")\n"
   ]
  },
  {
   "cell_type": "code",
   "execution_count": 328,
   "metadata": {},
   "outputs": [],
   "source": [
    "training_Y = dataset.iloc[0:300,[1]]\n",
    "training_X = dataset.iloc[0:300,2:]\n",
    "\n",
    "testing_Y = dataset.iloc[300:,[1]]\n",
    "testing_X = dataset.iloc[300:,2:]"
   ]
  },
  {
   "cell_type": "code",
   "execution_count": 329,
   "metadata": {},
   "outputs": [
    {
     "name": "stdout",
     "output_type": "stream",
     "text": [
      "  0   1   2   3   4   5   6   7   8   9    ... 290 291 292 293 294 295 296  \\\n",
      "M   1   1   1   1   1   1   1   1   1   1  ...  -1  -1  -1  -1  -1  -1   1   \n",
      "\n",
      "  297 298 299  \n",
      "M  -1  -1   1  \n",
      "\n",
      "[1 rows x 300 columns]\n",
      "  300 301 302 303 304 305 306 307 308 309  ... 558 559 560 561 562 563 564  \\\n",
      "M  -1   1  -1  -1  -1  -1  -1  -1  -1  -1  ...  -1  -1  -1   1   1   1   1   \n",
      "\n",
      "  565 566 567  \n",
      "M   1   1  -1  \n",
      "\n",
      "[1 rows x 268 columns]\n"
     ]
    }
   ],
   "source": [
    "training_Y[training_Y=='M']=1\n",
    "training_Y[training_Y=='B']=-1\n",
    "\n",
    "testing_Y[testing_Y=='M']=1\n",
    "testing_Y[testing_Y=='B']=-1\n",
    "\n",
    "train_Y = training_Y.transpose()\n",
    "test_Y = testing_Y.transpose()\n",
    "print(train_Y)\n",
    "print(test_Y)"
   ]
  },
  {
   "cell_type": "code",
   "execution_count": 330,
   "metadata": {},
   "outputs": [],
   "source": [
    "# tree = DecisionTreeClassifier(criterion=\"entropy\", max_depth=1, max_leaf_nodes=2)\n",
    "# tree.fit(training_X,training_Y)"
   ]
  },
  {
   "cell_type": "code",
   "execution_count": 331,
   "metadata": {},
   "outputs": [],
   "source": [
    "# prediction = tree.predict(testing_X)\n",
    "\n",
    "\n",
    "# print(\"The prediction accuracy is: \",tree.score(testing_X,testing_Y)*100,\"%\")"
   ]
  },
  {
   "cell_type": "code",
   "execution_count": 332,
   "metadata": {},
   "outputs": [
    {
     "name": "stdout",
     "output_type": "stream",
     "text": [
      "2.718281828459045\n",
      "0.36787944117144233\n"
     ]
    }
   ],
   "source": [
    "# row = training_X.shape[0]\n",
    "# col = training_X.shape[1]\n",
    "\n",
    "# print(row)\n",
    "# print(col)\n",
    "\n",
    "# for i in range(0, 300):\n",
    "#     for j in range(0, 30):\n",
    "#         print(training_X.iloc[i,j])\n",
    "\n",
    "print(np.exp(1))\n",
    "print(np.exp(-1))\n"
   ]
  },
  {
   "cell_type": "code",
   "execution_count": 333,
   "metadata": {},
   "outputs": [
    {
     "ename": "NameError",
     "evalue": "name 'testing' is not defined",
     "output_type": "error",
     "traceback": [
      "\u001b[0;31m---------------------------------------------------------------------------\u001b[0m",
      "\u001b[0;31mNameError\u001b[0m                                 Traceback (most recent call last)",
      "\u001b[0;32m<ipython-input-333-86da1366c473>\u001b[0m in \u001b[0;36m<module>\u001b[0;34m\u001b[0m\n\u001b[0;32m----> 1\u001b[0;31m \u001b[0mtesting\u001b[0m\u001b[0;34m.\u001b[0m\u001b[0mshape\u001b[0m\u001b[0;34m[\u001b[0m\u001b[0;36m0\u001b[0m\u001b[0;34m]\u001b[0m\u001b[0;34m\u001b[0m\u001b[0;34m\u001b[0m\u001b[0m\n\u001b[0m",
      "\u001b[0;31mNameError\u001b[0m: name 'testing' is not defined"
     ]
    }
   ],
   "source": [
    "testing_X.shape[0]\n"
   ]
  },
  {
   "cell_type": "code",
   "execution_count": null,
   "metadata": {},
   "outputs": [],
   "source": []
  },
  {
   "cell_type": "code",
   "execution_count": null,
   "metadata": {},
   "outputs": [],
   "source": []
  }
 ],
 "metadata": {
  "kernelspec": {
   "display_name": "Python 3",
   "language": "python",
   "name": "python3"
  },
  "language_info": {
   "codemirror_mode": {
    "name": "ipython",
    "version": 3
   },
   "file_extension": ".py",
   "mimetype": "text/x-python",
   "name": "python",
   "nbconvert_exporter": "python",
   "pygments_lexer": "ipython3",
   "version": "3.8.3"
  }
 },
 "nbformat": 4,
 "nbformat_minor": 4
}
